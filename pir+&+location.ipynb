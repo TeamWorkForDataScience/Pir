{
 "cells": [
  {
   "cell_type": "code",
   "execution_count": 1,
   "metadata": {
    "collapsed": true
   },
   "outputs": [],
   "source": [
    "import numpy as np\n",
    "import pandas as pd\n",
    "from pandas import Series, DataFrame\n",
    "import matplotlib.pyplot as plt\n",
    "%matplotlib inline\n",
    "import warnings\n",
    "warnings.filterwarnings('ignore')\n",
    "\n",
    "from bokeh.io import push_notebook, show, output_notebook\n",
    "from bokeh.plotting import figure"
   ]
  },
  {
   "cell_type": "code",
   "execution_count": 2,
   "metadata": {
    "collapsed": true
   },
   "outputs": [],
   "source": [
    "# load data\n",
    "column_headings1=('start','end','name','index')\n",
    "df_pir=pd.read_csv('E:\\\\Bristol\\\\Applied Data Science\\\\data\\\\train\\\\00001\\\\pir.csv',names=column_headings1)\n",
    "\n",
    "df=pd.read_csv('E:\\\\Bristol\\\\Applied Data Science\\\\data\\\\train\\\\00001\\\\location_0.csv')"
   ]
  },
  {
   "cell_type": "code",
   "execution_count": 3,
   "metadata": {
    "collapsed": false
   },
   "outputs": [
    {
     "data": {
      "text/html": [
       "<div>\n",
       "<table border=\"1\" class=\"dataframe\">\n",
       "  <thead>\n",
       "    <tr style=\"text-align: right;\">\n",
       "      <th></th>\n",
       "      <th>index</th>\n",
       "      <th>name</th>\n",
       "    </tr>\n",
       "  </thead>\n",
       "  <tbody>\n",
       "    <tr>\n",
       "      <th>00:00:45.930000</th>\n",
       "      <td>3</td>\n",
       "      <td>hall</td>\n",
       "    </tr>\n",
       "    <tr>\n",
       "      <th>00:00:47.130000</th>\n",
       "      <td>3</td>\n",
       "      <td>hall</td>\n",
       "    </tr>\n",
       "    <tr>\n",
       "      <th>00:00:47.330000</th>\n",
       "      <td>5</td>\n",
       "      <td>living</td>\n",
       "    </tr>\n",
       "    <tr>\n",
       "      <th>00:07:05.930000</th>\n",
       "      <td>5</td>\n",
       "      <td>living</td>\n",
       "    </tr>\n",
       "    <tr>\n",
       "      <th>00:07:06.230000</th>\n",
       "      <td>3</td>\n",
       "      <td>hall</td>\n",
       "    </tr>\n",
       "  </tbody>\n",
       "</table>\n",
       "</div>"
      ],
      "text/plain": [
       "                 index    name\n",
       "00:00:45.930000      3    hall\n",
       "00:00:47.130000      3    hall\n",
       "00:00:47.330000      5  living\n",
       "00:07:05.930000      5  living\n",
       "00:07:06.230000      3    hall"
      ]
     },
     "execution_count": 3,
     "metadata": {},
     "output_type": "execute_result"
    }
   ],
   "source": [
    "# convert two columns of time to serial one\n",
    "dfa= pd.concat([df['start'],df['end']])\n",
    "dfb= dfa.to_frame()     # change to dataframe\n",
    "dfb.columns= ['t']\n",
    "dfb['index']= df['index'][dfb.index.values]\n",
    "dfb['name']= df['name'][dfb.index.values]\n",
    "dfb= dfb.sort().reset_index()\n",
    "#dfb\n",
    "del dfb['level_0']\n",
    "dfb['t']= pd.to_timedelta(dfb['t'], unit='s')\n",
    "dfb = dfb.set_index(pd.TimedeltaIndex(dfb['t']))\n",
    "del dfb['t']\n",
    "dfb= dfb.sort()\n",
    "dfb.head()"
   ]
  },
  {
   "cell_type": "code",
   "execution_count": 4,
   "metadata": {
    "collapsed": false
   },
   "outputs": [
    {
     "data": {
      "text/html": [
       "<div>\n",
       "<table border=\"1\" class=\"dataframe\">\n",
       "  <thead>\n",
       "    <tr style=\"text-align: right;\">\n",
       "      <th></th>\n",
       "      <th>pir_index</th>\n",
       "      <th>name</th>\n",
       "    </tr>\n",
       "  </thead>\n",
       "  <tbody>\n",
       "    <tr>\n",
       "      <th>00:00:04.608000</th>\n",
       "      <td>7</td>\n",
       "      <td>study</td>\n",
       "    </tr>\n",
       "    <tr>\n",
       "      <th>00:00:06.556000</th>\n",
       "      <td>7</td>\n",
       "      <td>study</td>\n",
       "    </tr>\n",
       "    <tr>\n",
       "      <th>00:00:15.873000</th>\n",
       "      <td>7</td>\n",
       "      <td>study</td>\n",
       "    </tr>\n",
       "    <tr>\n",
       "      <th>00:00:20.657000</th>\n",
       "      <td>6</td>\n",
       "      <td>stairs</td>\n",
       "    </tr>\n",
       "    <tr>\n",
       "      <th>00:00:22.924000</th>\n",
       "      <td>6</td>\n",
       "      <td>stairs</td>\n",
       "    </tr>\n",
       "  </tbody>\n",
       "</table>\n",
       "</div>"
      ],
      "text/plain": [
       "                 pir_index    name\n",
       "00:00:04.608000          7   study\n",
       "00:00:06.556000          7   study\n",
       "00:00:15.873000          7   study\n",
       "00:00:20.657000          6  stairs\n",
       "00:00:22.924000          6  stairs"
      ]
     },
     "execution_count": 4,
     "metadata": {},
     "output_type": "execute_result"
    }
   ],
   "source": [
    "df_pira= pd.concat([df_pir['start'],df_pir['end']])\n",
    "df_pirb= df_pira.to_frame()\n",
    "df_pirb.columns= ['t']\n",
    "df_pirb['pir_index']= df_pir['index'][df_pirb.index.values]\n",
    "df_pirb['name']= df_pir['name'][df_pirb.index.values]\n",
    "df_pirb= df_pirb.sort().reset_index()\n",
    "#df_pirb\n",
    "del df_pirb['index']\n",
    "df_pirb['t']= pd.to_timedelta(df_pirb['t'],unit='s')\n",
    "df_pirb= df_pirb.set_index(pd.TimedeltaIndex(df_pirb['t']))\n",
    "#df_pirb\n",
    "del df_pirb['t']\n",
    "df_pirb= df_pirb.sort()\n",
    "df_pirb.head()"
   ]
  },
  {
   "cell_type": "code",
   "execution_count": 5,
   "metadata": {
    "collapsed": true
   },
   "outputs": [],
   "source": [
    "column_headings1=('start','end','name','index')\n",
    "df1=pd.read_csv('E:\\\\Bristol\\\\Applied Data Science\\\\data\\\\train\\\\00001\\\\pir.csv',names=column_headings1)"
   ]
  },
  {
   "cell_type": "code",
   "execution_count": 6,
   "metadata": {
    "collapsed": true
   },
   "outputs": [],
   "source": [
    "# merge the time periods of same neighboring names\n",
    "df1_part1=df1[6:50]\n",
    "df1_part2=df1[50:87]\n",
    "df1_part3=df1[87:90]\n",
    "df1_part4=df1[90:92]\n",
    "df1_part5=df1[92:95]\n",
    "df1_part6=df1[95:108]\n",
    "df1_part7=df1[108:111]\n",
    "df1_part8=df1[111:113]\n",
    "\n",
    "def all_combine (DF):\n",
    "    f1=lambda x: x.min()\n",
    "    grouped1= DF.groupby('index')['start'].apply(f1)\n",
    "    f2=lambda y: y.max()\n",
    "    grouped2= DF.groupby('index')['end'].apply(f2)\n",
    "    grouped_part= pd.concat([grouped1, grouped2],axis=1).reset_index()\n",
    "    return grouped_part"
   ]
  },
  {
   "cell_type": "code",
   "execution_count": 7,
   "metadata": {
    "collapsed": true
   },
   "outputs": [],
   "source": [
    "# convert to a dataframe\n",
    "grouped_part1= all_combine(df1_part1)\n",
    "grouped_part2= all_combine(df1_part2)\n",
    "grouped_part3= all_combine(df1_part3)\n",
    "grouped_part4= all_combine(df1_part4)\n",
    "grouped_part5= all_combine(df1_part5)\n",
    "grouped_part6= all_combine(df1_part6)\n",
    "grouped_part7= all_combine(df1_part7)\n",
    "grouped_part8= all_combine(df1_part8)\n",
    "grouped= grouped_part1.merge(grouped_part2,how='outer').merge(grouped_part3,how='outer').merge(grouped_part4,how='outer').merge(grouped_part5,how='outer').merge(grouped_part6,how='outer').merge(grouped_part7,how='outer').merge(grouped_part8,how='outer')"
   ]
  },
  {
   "cell_type": "code",
   "execution_count": 8,
   "metadata": {
    "collapsed": false
   },
   "outputs": [
    {
     "data": {
      "text/html": [
       "<div>\n",
       "<table border=\"1\" class=\"dataframe\">\n",
       "  <thead>\n",
       "    <tr style=\"text-align: right;\">\n",
       "      <th></th>\n",
       "      <th>index</th>\n",
       "    </tr>\n",
       "  </thead>\n",
       "  <tbody>\n",
       "    <tr>\n",
       "      <th>00:00:46.596000</th>\n",
       "      <td>6.0</td>\n",
       "    </tr>\n",
       "    <tr>\n",
       "      <th>00:00:50.810000</th>\n",
       "      <td>6.0</td>\n",
       "    </tr>\n",
       "    <tr>\n",
       "      <th>00:01:00.852000</th>\n",
       "      <td>5.0</td>\n",
       "    </tr>\n",
       "    <tr>\n",
       "      <th>00:07:06.286000</th>\n",
       "      <td>5.0</td>\n",
       "    </tr>\n",
       "    <tr>\n",
       "      <th>00:07:17.696000</th>\n",
       "      <td>4.0</td>\n",
       "    </tr>\n",
       "  </tbody>\n",
       "</table>\n",
       "</div>"
      ],
      "text/plain": [
       "                 index\n",
       "00:00:46.596000    6.0\n",
       "00:00:50.810000    6.0\n",
       "00:01:00.852000    5.0\n",
       "00:07:06.286000    5.0\n",
       "00:07:17.696000    4.0"
      ]
     },
     "execution_count": 8,
     "metadata": {},
     "output_type": "execute_result"
    }
   ],
   "source": [
    "groupeda= pd.concat([grouped['start'],grouped['end']])\n",
    "groupedb=groupeda.to_frame()\n",
    "groupedb.columns=['t']\n",
    "groupedb['index']=grouped['index'][groupedb.index.values]\n",
    "groupedb= groupedb.sort().reset_index()\n",
    "groupedb\n",
    "del groupedb['level_0']\n",
    "groupedb['t']= pd.to_timedelta(groupedb['t'],unit='s')\n",
    "groupedb= groupedb.set_index(pd.TimedeltaIndex(groupedb['t']))\n",
    "groupedb= groupedb.sort()\n",
    "del groupedb['t']\n",
    "groupedb.head()"
   ]
  },
  {
   "cell_type": "code",
   "execution_count": 9,
   "metadata": {
    "collapsed": false
   },
   "outputs": [
    {
     "data": {
      "text/plain": [
       "<matplotlib.axes._subplots.AxesSubplot at 0xa1ca908>"
      ]
     },
     "execution_count": 9,
     "metadata": {},
     "output_type": "execute_result"
    },
    {
     "data": {
      "image/png": "[encoded data removed]",
      "text/plain": [
       "<matplotlib.figure.Figure at 0xa1ca748>"
      ]
     },
     "metadata": {},
     "output_type": "display_data"
    }
   ],
   "source": [
    "ax=dfb.plot(style='g-.',legend='location_index')\n",
    "groupedb.plot(ax=ax,legend='pir_index')"
   ]
  },
  {
   "cell_type": "code",
   "execution_count": 10,
   "metadata": {
    "collapsed": false
   },
   "outputs": [
    {
     "data": {
      "text/plain": [
       "<function matplotlib.pyplot.show>"
      ]
     },
     "execution_count": 10,
     "metadata": {},
     "output_type": "execute_result"
    },
    {
     "data": {
      "image/png": "[encoded data removed]",
      "text/plain": [
       "<matplotlib.figure.Figure at 0xa725a58>"
      ]
     },
     "metadata": {},
     "output_type": "display_data"
    }
   ],
   "source": [
    "plt.plot(dfb.index,dfb['index'])\n",
    "plt.plot(groupedb.index,groupedb['index'])\n",
    "plt.show"
   ]
  },
  {
   "cell_type": "code",
   "execution_count": null,
   "metadata": {
    "collapsed": true
   },
   "outputs": [],
   "source": []
  }
 ],
 "metadata": {
  "anaconda-cloud": {},
  "kernelspec": {
   "display_name": "Python [default]",
   "language": "python",
   "name": "python2"
  },
  "language_info": {
   "codemirror_mode": {
    "name": "ipython",
    "version": 2
   },
   "file_extension": ".py",
   "mimetype": "text/x-python",
   "name": "python",
   "nbconvert_exporter": "python",
   "pygments_lexer": "ipython2",
   "version": "2.7.12"
  }
 },
 "nbformat": 4,
 "nbformat_minor": 1
}
